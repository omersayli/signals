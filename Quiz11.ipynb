{
 "cells": [
  {
   "cell_type": "markdown",
   "metadata": {},
   "source": [
    "# QUIZ 11\n",
    "# DSP RELATED (.COM)"
   ]
  },
  {
   "cell_type": "markdown",
   "metadata": {},
   "source": [
    "Linear time-invariant (LTI) systems have a useful commutative property where their sequential order can be rearranged with no change in their final outputs.This situation, described in almost every DSP textbook, is shown in Figure 1 where two different LTI systems are configured in series. Swapping the order of two cascaded LTI systems does not alter the final output. That is, y1(n) is always equal to y2(n). \n",
    "\n",
    "![title](system1.png)\n",
    "\n",
    "![title](system.png)"
   ]
  },
  {
   "cell_type": "markdown",
   "metadata": {},
   "source": [
    "The textbooks don't come right out and say it but they strongly imply that swapping the order of the two systems in Figure 1 is not permitted if either System #1 or System #2 is not LTI.\n",
    "\n",
    "Now consider the cascaded system, that I encountered recently, shown in Figure 2(a). Variable n is the integer time index, k is a real-valued frequency variable, and N is a positive integer. The multiplication in Stage #2 is not LTI because it is not time-invariant. \n",
    "\n",
    "### Quiz Question: Under what condition can we swap the order of the stages in Figure 2(a) to create Figure 2(b) such that y1[n] = y2[n]\n",
    "\n",
    "Pick one:\n",
    "- When k is negative\n",
    "- When k is an integer\n",
    "- When 2πk(n-1)/N is aperiodic\n",
    "- None of the above"
   ]
  },
  {
   "cell_type": "code",
   "execution_count": 147,
   "metadata": {},
   "outputs": [],
   "source": [
    "import numpy as np\n",
    "import matplotlib.pyplot as plt\n",
    "M = 20 # Signal length\n",
    "mu, sigma = 0, 1\n",
    "x_n = np.zeros(50) \n",
    "n = np.arange(-25, 25)  # n is from -25 to 24\n",
    "x_n[25 - M//2:25 + M//2] =  np.random.normal(mu, sigma, M)  # Random signal from index -10 to 10"
   ]
  },
  {
   "cell_type": "code",
   "execution_count": 148,
   "metadata": {
    "code_folding": []
   },
   "outputs": [],
   "source": [
    "def system_1_delay(x, N):\n",
    "    ''' Delays input's output\n",
    "    by delay N, AND sums with Input\n",
    "    \n",
    "    inputs:\n",
    "    x : input\n",
    "    N : Delay number\n",
    "    \n",
    "    output \n",
    "    y : delayed input + input\n",
    "        x[n-N] + x[n]\n",
    "    '''\n",
    "    y = np.zeros(len(x))\n",
    "    \n",
    "    if N>0:\n",
    "        y[N:] = x[:-N]\n",
    "    elif N<0:\n",
    "        y[:N] = x[-N:]\n",
    "    else:\n",
    "        y = x[:]\n",
    "    \n",
    "    return x + y"
   ]
  },
  {
   "cell_type": "code",
   "execution_count": 149,
   "metadata": {},
   "outputs": [],
   "source": [
    "def system_2_cos(x, k, N):\n",
    "    ''' Multiply input sequence x[n] by cos(2*np.pi*k*n/N)\n",
    "    \n",
    "    \n",
    "    inputs:\n",
    "    x : input\n",
    "    k : real-valued frequency variable\n",
    "    N : Integer \n",
    "    \n",
    "    output \n",
    "    y : delayed input \n",
    "        x[n-N]\n",
    "    '''\n",
    "    N = int(N) # Ensure Integer\n",
    "    n = np.arange(-25, 25)\n",
    "    y = x * np.cos(2*np.pi*k*n/N)\n",
    "    return y"
   ]
  },
  {
   "cell_type": "code",
   "execution_count": 162,
   "metadata": {},
   "outputs": [],
   "source": [
    "def show_outputs(k, N):\n",
    "    fig, ax = plt.subplots(1,1, figsize=(16,6))\n",
    "    ax.stem(n, x_n, use_line_collection = True)\n",
    "    ax.set(xlabel='n', title='x[n]')\n",
    "    fig, ax = plt.subplots(1,1, figsize=(16,6))\n",
    "    plt.cla()\n",
    "    \n",
    "    ax.stem(n, system_1_delay(system_2_cos(x_n, k, N), N), \n",
    "            linefmt ='b', markerfmt= 'bo', use_line_collection = True, label='Fig2-a')\n",
    "    ax.stem(n+0.2, system_2_cos(system_1_delay(x_n, N), k, N),\n",
    "            linefmt ='r', markerfmt= 'ro', use_line_collection = True, label='Fig2-b')\n",
    "    ax.set_title(''.join(['k= ' , str(k), ', N= ', str(N) , ',  k/N= ', str(k/N)]))\n",
    "    ax.set_xlabel('n')\n",
    "    #     print(k,  N)\n",
    "    ax.legend()\n",
    "    "
   ]
  },
  {
   "cell_type": "code",
   "execution_count": 164,
   "metadata": {},
   "outputs": [
    {
     "data": {
      "application/vnd.jupyter.widget-view+json": {
       "model_id": "00c73482d1b64272a1b5836b67caf8a9",
       "version_major": 2,
       "version_minor": 0
      },
      "text/plain": [
       "interactive(children=(FloatSlider(value=0.0, description='k', max=15.0, min=-15.0, step=0.2), IntSlider(value=…"
      ]
     },
     "metadata": {},
     "output_type": "display_data"
    }
   ],
   "source": [
    "from ipywidgets import FloatSlider\n",
    "from ipywidgets import interact, interactive, fixed, interact_manual\n",
    "interact(show_outputs,k=FloatSlider(min=-15, max=15, step=0.2), \n",
    "         N = widgets.IntSlider(min=1, max=15, step=1, value=10), continuous_update=False);"
   ]
  },
  {
   "cell_type": "code",
   "execution_count": null,
   "metadata": {},
   "outputs": [],
   "source": []
  }
 ],
 "metadata": {
  "kernelspec": {
   "display_name": "Python 3",
   "language": "python",
   "name": "python3"
  },
  "language_info": {
   "codemirror_mode": {
    "name": "ipython",
    "version": 3
   },
   "file_extension": ".py",
   "mimetype": "text/x-python",
   "name": "python",
   "nbconvert_exporter": "python",
   "pygments_lexer": "ipython3",
   "version": "3.7.7"
  },
  "varInspector": {
   "cols": {
    "lenName": 16,
    "lenType": 16,
    "lenVar": 40
   },
   "kernels_config": {
    "python": {
     "delete_cmd_postfix": "",
     "delete_cmd_prefix": "del ",
     "library": "var_list.py",
     "varRefreshCmd": "print(var_dic_list())"
    },
    "r": {
     "delete_cmd_postfix": ") ",
     "delete_cmd_prefix": "rm(",
     "library": "var_list.r",
     "varRefreshCmd": "cat(var_dic_list()) "
    }
   },
   "types_to_exclude": [
    "module",
    "function",
    "builtin_function_or_method",
    "instance",
    "_Feature"
   ],
   "window_display": false
  }
 },
 "nbformat": 4,
 "nbformat_minor": 4
}
